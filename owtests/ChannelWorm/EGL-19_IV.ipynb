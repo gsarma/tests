{
 "cells": [
  {
   "cell_type": "markdown",
   "metadata": {},
   "source": [
    "# Validating a channel model IV curve with data from an experiment"
   ]
  },
  {
   "cell_type": "code",
   "execution_count": null,
   "metadata": {},
   "outputs": [],
   "source": [
    "# Imports and preliminaries.  \n",
    "%matplotlib inline\n",
    "import os\n",
    "import sys\n",
    "\n",
    "import django\n",
    "import numpy as np\n",
    "import quantities as pq\n",
    "import matplotlib as mpl\n",
    "import matplotlib.pyplot as plt\n",
    "plt.rcParams.update({'font.size':16, 'lines.linewidth':3})"
   ]
  },
  {
   "cell_type": "code",
   "execution_count": null,
   "metadata": {},
   "outputs": [],
   "source": [
    "import owtests\n",
    "from channelworm.fitter.initiators import Initiator\n",
    "from neuronunit.tests.channel import IVCurvePeakTest\n",
    "from neuronunit.models.channel import ChannelModel"
   ]
  },
  {
   "cell_type": "code",
   "execution_count": null,
   "metadata": {},
   "outputs": [],
   "source": [
    "# Setup access to the Django database\n",
    "os.environ.setdefault(\n",
    "    \"DJANGO_SETTINGS_MODULE\",\n",
    "    \"channelworm.web_app.settings\"\n",
    ")\n",
    "django.setup()\n",
    "from channelworm.ion_channel.models import GraphData"
   ]
  },
  {
   "cell_type": "markdown",
   "metadata": {},
   "source": [
    "## Compare the IV curve predicted from the channel model to that observed from the data"
   ]
  },
  {
   "cell_type": "code",
   "execution_count": null,
   "metadata": {},
   "outputs": [],
   "source": [
    "# Instantiate the model\n",
    "channel_model_name = 'EGL-19.channel'\n",
    "channel_id = 'ca_boyle'\n",
    "channel_file_path = os.path.join(owtests.CW_HOME,'models','%s.nml' % channel_model_name)\n",
    "model_name = channel_model_name.split('.')[0]\n",
    "\n",
    "model = ChannelModel(channel_file_path,channel_index=0,name=model_name)"
   ]
  },
  {
   "cell_type": "code",
   "execution_count": null,
   "metadata": {},
   "outputs": [],
   "source": [
    "# Get the experiment data from ChannelWorm and instantiate the test\n",
    "doi = '10.1083/jcb.200203055' # The DOI of the paper containing the data\n",
    "fig = '2B' # The figure and panel of the data\n",
    "sample_data = GraphData.objects.get(graph__experiment__reference__doi=doi, \n",
    "                                    graph__figure_ref_address=fig)\n",
    "obs = list(zip(*sample_data.asarray())) \n",
    "observation = {'i/C':obs[1]*pq.A/pq.F, 'v':obs[0]*pq.mV}\n",
    "cell_capacitance = 1e-13 * pq.F # Capacitance is arbitrary if IV curves are scaled.  \n",
    "observation['i'] = observation['i/C']*cell_capacitance\n",
    "\n",
    "test = IVCurvePeakTest(observation, scale=True)"
   ]
  },
  {
   "cell_type": "code",
   "execution_count": null,
   "metadata": {},
   "outputs": [],
   "source": [
    "# Judge the model output against the experimental data\n",
    "score = test.judge(model)\n",
    "score.summarize()\n",
    "print(\"The score was computed according to '%s' with raw value %s and pass cutoff %s\" \\\n",
    "    % (score.description,score.raw,test.converter.cutoff))\n",
    "print('The scaling factor for the model IV curve was %.3g' % score.related_data['scale_factor'])"
   ]
  },
  {
   "cell_type": "code",
   "execution_count": null,
   "metadata": {},
   "outputs": [],
   "source": [
    "score.plot()\n",
    "plt.tight_layout()\n",
    "gformat = 'eps'\n",
    "save_path = os.path.join(owtests.OW_HOME,'iv_curves.%s' % gformat)\n",
    "plt.savefig(save_path,format=gformat)"
   ]
  },
  {
   "cell_type": "code",
   "execution_count": null,
   "metadata": {},
   "outputs": [],
   "source": [
    "# Cleanup\n",
    "os.system('rm *.dat; rm *.xml');"
   ]
  }
 ],
 "metadata": {
  "kernelspec": {
   "display_name": "Python 3",
   "language": "python",
   "name": "python3"
  },
  "language_info": {
   "codemirror_mode": {
    "name": "ipython",
    "version": 3
   },
   "file_extension": ".py",
   "mimetype": "text/x-python",
   "name": "python",
   "nbconvert_exporter": "python",
   "pygments_lexer": "ipython3",
   "version": "3.5.2"
  }
 },
 "nbformat": 4,
 "nbformat_minor": 2
}
