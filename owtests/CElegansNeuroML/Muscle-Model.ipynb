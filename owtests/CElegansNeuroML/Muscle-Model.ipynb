{
 "cells": [
  {
   "cell_type": "markdown",
   "metadata": {},
   "source": [
    "## The data figure we want to reproduce (from [here](https://www.ncbi.nlm.nih.gov/pmc/articles/PMC3039263/figure/fig01/))"
   ]
  },
  {
   "cell_type": "markdown",
   "metadata": {},
   "source": [
    "![data-figure](https://www.ncbi.nlm.nih.gov/pmc/articles/PMC3039263/bin/tjp0589-0101-f1.jpg)"
   ]
  },
  {
   "cell_type": "code",
   "execution_count": null,
   "metadata": {},
   "outputs": [],
   "source": [
    "%matplotlib inline\n",
    "\n",
    "# Built-in libs\n",
    "import os\n",
    "import sys\n",
    "import warnings\n",
    "\n",
    "# Common libs\n",
    "import pandas as pd\n",
    "import numpy as np\n",
    "import matplotlib.pyplot as plt\n",
    "import quantities as pq\n",
    "\n",
    "# Open Worm libs\n",
    "import owtests\n",
    "import c302\n",
    "\n",
    "# Testing libs\n",
    "warnings.simplefilter('ignore')\n",
    "import sciunit\n",
    "from neuronunit.tests import waveform,dynamics\n",
    "import quantities as pq\n",
    "from c302.muscleunit import vm_plot,models as sciunit_models"
   ]
  },
  {
   "cell_type": "code",
   "execution_count": null,
   "metadata": {},
   "outputs": [],
   "source": [
    "# Create a MuscleModel instance with a particular configuration\n",
    "# This model has a neuron and a muscle cell\n",
    "config = 'IClampBWM'\n",
    "parameter_set = 'C2'\n",
    "duration = 10000 # ms\n",
    "dt = 0.05 # ms\n",
    "model = sciunit_models.MuscleModel(config, parameter_set, duration, dt, config_package=\"notebooks.configs\")"
   ]
  },
  {
   "cell_type": "markdown",
   "metadata": {},
   "source": [
    "## Action potential waveform shape tests"
   ]
  },
  {
   "cell_type": "code",
   "execution_count": null,
   "metadata": {},
   "outputs": [],
   "source": [
    "# Dictionary of observations, in this case two ephys properties from one paper\n",
    "\n",
    "doi = 'doi:10.1113/jphysiol.2010.200683' # The DOI of the paper\n",
    "# Observations copied from the table in the paper\n",
    "observations={doi:{'ap_amplitude':{'mean':45.1*pq.mV,\n",
    "                                   'sem':0.7*pq.mV,\n",
    "                                   'n':25},\n",
    "                   'ap_width':{'mean':19.7*pq.ms,\n",
    "                               'sem':1.0*pq.ms,\n",
    "                               'n':25}}}    \n",
    "\n",
    "# Instantiate two tests based on these properties\n",
    "ap_width_test = waveform.APWidthTest(observation=observations[doi]['ap_width'])\n",
    "ap_amplitude_test = waveform.APAmplitudeTest(observation=observations[doi]['ap_amplitude'])"
   ]
  },
  {
   "cell_type": "markdown",
   "metadata": {},
   "source": [
    "## Interspike interval distribution tests"
   ]
  },
  {
   "cell_type": "code",
   "execution_count": null,
   "metadata": {},
   "outputs": [],
   "source": [
    "# Load a digitized version of an ISI histogram\n",
    "histogram_path = os.path.join(owtests.TESTS_HOME,\"owtests/CElegansNeuroML/data/digitized_histogram.csv\")\n",
    "df = pd.read_csv(histogram_path,header=None,names=['Bin Centers','Counts'],index_col=0)\n",
    "df = df.astype('int') # Set ISI counts to integers\n",
    "df.index = df.index.values.round(3) # Round the bin centers to the nearest ms\n",
    "df.head()"
   ]
  },
  {
   "cell_type": "code",
   "execution_count": null,
   "metadata": {},
   "outputs": [],
   "source": [
    "width = df.index.values[1] - df.index.values[0] # Bin width from the original histogram\n",
    "df.plot.bar(align='center',width=1)\n",
    "plt.title('ISI Histogram');\n",
    "plt.xlabel('ISI (s)');"
   ]
  },
  {
   "cell_type": "code",
   "execution_count": null,
   "metadata": {},
   "outputs": [],
   "source": [
    "# Make surrogate data for a MLE fit\n",
    "surrogate_data = []\n",
    "for bin_center in df.index:\n",
    "    count = int(df.loc[bin_center])\n",
    "    surrogate_data += [bin_center]*count"
   ]
  },
  {
   "cell_type": "code",
   "execution_count": null,
   "metadata": {},
   "outputs": [],
   "source": [
    "# Do the fit on the surrogate data to get the estmated parameters\n",
    "from scipy.stats import gamma\n",
    "isi_shape,isi_loc,isi_scale = gamma.fit(surrogate_data)\n",
    "isi_mean, isi_var, isi_skew, isi_kurt = gamma.stats(isi_shape,loc=isi_loc,scale=isi_scale, moments='mvsk')\n",
    "isi_std = np.sqrt(isi_var)\n",
    "isi_cv = isi_std/isi_mean\n",
    "bins = list(df.index - width/2) # Get the left edges of the bins\n",
    "bins += [bins[-1]+width] # Add the right edge of the last bin\n",
    "plt.figure(figsize=(10,5))\n",
    "plt.hist(surrogate_data,bins=bins,normed=True,label='Empirical data')\n",
    "xs = np.linspace(0,df.index.max(),1000)\n",
    "plt.plot(xs,gamma.pdf(xs,isi_shape,loc=isi_loc,scale=isi_scale),label='Gamma Distribution Fit')\n",
    "plt.ylabel('Probability Density')\n",
    "plt.xlabel('Inter-spike interval (s)')\n",
    "plt.legend()\n",
    "print('Gamma parameters:\\n\\tShape: {:.2g}\\n\\tScale: {:.2g}\\n\\tLoc: {:.2g}'.format(isi_shape,isi_scale,isi_loc))\n",
    "print('Statistics:\\n\\tMean: {:.2g}\\n\\tStandard Deviation {:.2g}'.format(isi_mean,isi_std))\n",
    "plt.savefig('histogram.png',format='png')"
   ]
  },
  {
   "cell_type": "code",
   "execution_count": null,
   "metadata": {},
   "outputs": [],
   "source": [
    "# ISI Mean Test\n",
    "observation = {doi:\n",
    "                {'mean':isi_mean*pq.s,\n",
    "                 'std':isi_std*pq.s,\n",
    "                 'cv':isi_cv}}\n",
    "isi_test = dynamics.ISITest(observation=observation[doi])\n",
    "cv_test = dynamics.ISICVTest(observation=observation[doi])"
   ]
  },
  {
   "cell_type": "code",
   "execution_count": null,
   "metadata": {},
   "outputs": [],
   "source": [
    "# Put them all together in a test suite\n",
    "ap_tests = sciunit.TestSuite([ap_width_test,ap_amplitude_test,isi_test,cv_test], name=\"AP ISI and CV Tests\")"
   ]
  },
  {
   "cell_type": "code",
   "execution_count": null,
   "metadata": {},
   "outputs": [],
   "source": [
    "# Judge the membrane potential of the muscle \n",
    "# One could judge the neuron instead with appropriate keyword parameters, see below)\n",
    "%time score_matrix = ap_tests.judge(model)\n",
    "import pandas as pd\n",
    "score_matrix.style.set_properties(**{'font-size':'16pt'})"
   ]
  },
  {
   "cell_type": "code",
   "execution_count": null,
   "metadata": {},
   "outputs": [],
   "source": [
    "score_matrix"
   ]
  },
  {
   "cell_type": "code",
   "execution_count": null,
   "metadata": {},
   "outputs": [],
   "source": [
    "score_matrix['APAmplitudeTest'][0].observation,score_matrix['APAmplitudeTest'][0].prediction"
   ]
  },
  {
   "cell_type": "code",
   "execution_count": null,
   "metadata": {},
   "outputs": [],
   "source": [
    "score_matrix.T"
   ]
  },
  {
   "cell_type": "markdown",
   "metadata": {},
   "source": [
    "## Auxiliary data visualization"
   ]
  },
  {
   "cell_type": "code",
   "execution_count": null,
   "metadata": {},
   "outputs": [],
   "source": [
    "# Plot the model output for one of the tests\n",
    "plt.rcParams.update({'font.size':26,'figure.figsize':(8,6)})\n",
    "score_matrix['APWidthTest']['LEMS_c302_C2_IClampBWM'].plot_vm()\n",
    "plt.tight_layout()\n",
    "plt.savefig('model.png',format='png',dpi=150)"
   ]
  },
  {
   "cell_type": "markdown",
   "metadata": {},
   "source": [
    "## Model methods could also be run directly as follows"
   ]
  },
  {
   "cell_type": "code",
   "execution_count": null,
   "metadata": {},
   "outputs": [],
   "source": [
    "# These will use the cached results and so be much faster than the original run\n",
    "%time neuron_vm = model.get_membrane_potential_neuron()\n",
    "%time muscle_vm = model.get_membrane_potential_muscle()"
   ]
  },
  {
   "cell_type": "code",
   "execution_count": null,
   "metadata": {},
   "outputs": [],
   "source": [
    "# Another way to plot the model output, in this case by cell type\n",
    "vm_plot(muscle_vm,\"Muscle\")"
   ]
  },
  {
   "cell_type": "code",
   "execution_count": null,
   "metadata": {},
   "outputs": [],
   "source": [
    "# Same as above, but for a different cell type in this model\n",
    "# Note that in this flavor of the model, the neuron isn't doing anything at all, \n",
    "# and the muscle cell is firing spontaneously\n",
    "vm_plot(neuron_vm,\"Neuron\")"
   ]
  }
 ],
 "metadata": {
  "kernelspec": {
   "display_name": "Python 3",
   "language": "python",
   "name": "python3"
  },
  "language_info": {
   "codemirror_mode": {
    "name": "ipython",
    "version": 3
   },
   "file_extension": ".py",
   "mimetype": "text/x-python",
   "name": "python",
   "nbconvert_exporter": "python",
   "pygments_lexer": "ipython3",
   "version": "3.5.2"
  }
 },
 "nbformat": 4,
 "nbformat_minor": 2
}
