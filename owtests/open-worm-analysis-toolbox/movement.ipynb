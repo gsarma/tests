{
 "cells": [
  {
   "cell_type": "code",
   "execution_count": null,
   "metadata": {},
   "outputs": [],
   "source": [
    "%matplotlib inline\n",
    "\n",
    "import os\n",
    "import warnings\n",
    "warnings.filterwarnings('ignore')\n",
    "\n",
    "import numpy as np\n",
    "import matplotlib.pyplot as plt\n",
    "import pandas as pd\n",
    "plt.rcParams.update({'font.size':16})\n",
    "\n",
    "import sciunit\n",
    "from owtests import OW_HOME\n",
    "import wcon\n",
    "import open_worm_analysis_toolbox as owat"
   ]
  },
  {
   "cell_type": "code",
   "execution_count": null,
   "metadata": {},
   "outputs": [],
   "source": [
    "OWAT_TESTS = os.path.join(OW_HOME,'tests','owtests','open-worm-analysis-toolbox')"
   ]
  },
  {
   "cell_type": "markdown",
   "metadata": {},
   "source": [
    "# Model classes"
   ]
  },
  {
   "cell_type": "code",
   "execution_count": null,
   "metadata": {},
   "outputs": [],
   "source": [
    "class HasFeatures(sciunit.Capability):\n",
    "    def get_feature_stat(self, feature, stat):\n",
    "        raise NotImplementedError()"
   ]
  },
  {
   "cell_type": "code",
   "execution_count": null,
   "metadata": {},
   "outputs": [],
   "source": [
    "class MovementModel(sciunit.Model,HasFeatures):\n",
    "    \"\"\"Model class for testing worm movement\"\"\"\n",
    "    \n",
    "    def __init__(self, path, name=None, attrs=None):\n",
    "        super(MovementModel,self).__init__(name)\n",
    "        self.path = path\n",
    "        # Only needed for API compliance\n",
    "        self.attrs = attrs if attrs else {}\n",
    "        self.run_params = {}\n",
    "        self._url = 'http://github.com/openworm/tests'\n",
    "           \n",
    "    # Mapping between traditional feature names and OWAT feature names\n",
    "    # for ten core features\n",
    "    feature_map = \\\n",
    "        {'area':None,\n",
    "         'forward_frequency':'locomotion.motion_events.forward.frequency',\n",
    "         'backward_frequency':'locomotion.motion_events.backward.frequency',\n",
    "         'head_tip_speed_abs':'locomotion.velocity.head_tip.speed',\n",
    "         'length':'morphology.length',\n",
    "         'max_amplitude':'posture.amplitude_max',\n",
    "         'midbody_bend_mean_abs':'posture.bends.midbody.mean',\n",
    "         'midbody_speed_abs':'locomotion.velocity.midbody.speed',\n",
    "         'path_range':None,\n",
    "         'paused_frequency':'locomotion.motion_events.paused.frequency'}\n",
    "    \n",
    "    def extract_features(self):\n",
    "        self.features = owat.WormFeatures.from_disk(self.path)\n",
    "        \n",
    "    def compute_feature_stats(self):\n",
    "        feature_list = list(self.features._features.keys())\n",
    "        # Make a data frame to store feature stats\n",
    "        self.feature_stats = pd.DataFrame(index=feature_list,columns=['mean'])\n",
    "        for stat in list(self.feature_stats):\n",
    "            n_valid = 0\n",
    "            for feature,value in self.features._features.items():\n",
    "                try: # Fill with feature means only if \n",
    "                     # the feature is found and has some numeric data\n",
    "                    f = getattr(pd.Series(value.value),stat)\n",
    "                    result = f()\n",
    "                    if not np.isnan(result):\n",
    "                        self.feature_stats.loc[feature,stat] = result\n",
    "                        n_valid += 1\n",
    "                except:\n",
    "                    pass\n",
    "            # Valid features are the ones that were computed and have some numeric data\n",
    "            print(\"%d valid feature values found for %s\" % (n_valid,stat))\n",
    "        self.feature_stats = self.feature_stats.astype('float')\n",
    "        \n",
    "    def get_feature_stat(self, feature, stat):\n",
    "        s = self.feature_stats[stat]\n",
    "        if feature in s:\n",
    "            result = s[feature]\n",
    "        elif feature in self.feature_map:\n",
    "            alt_feature = self.feature_map[feature]\n",
    "            if alt_feature in s:\n",
    "                result = s[alt_feature]\n",
    "            else:\n",
    "                raise KeyError(\"Couldn't find an entry for %s or %s\" % (feature,alt_feature))\n",
    "        else:\n",
    "            raise KeyError(\"Couldn't find an entry for %s\" % feature)\n",
    "        return result\n",
    "        \n",
    "    def get_amplitude_ratio(self):\n",
    "        return self.get_feature_stat('posture.amplitude_ratio',\n",
    "                                     'mean')"
   ]
  },
  {
   "cell_type": "code",
   "execution_count": null,
   "metadata": {},
   "outputs": [],
   "source": [
    "import pandas as pd\n",
    "path = os.path.join(OWAT_TESTS,'experiment','movement_feature_means_all.csv')\n",
    "df = pd.read_csv(path,index_col=0)\n",
    "for col in MovementModel.feature_map.keys():\n",
    "    try:\n",
    "        df = df[df[col] != 'None']\n",
    "        df[col] = df[col].astype('float')\n",
    "    except:\n",
    "        pass\n",
    "df.head()"
   ]
  },
  {
   "cell_type": "code",
   "execution_count": null,
   "metadata": {},
   "outputs": [],
   "source": [
    "df.hist(['amplitude_ratio']);"
   ]
  },
  {
   "cell_type": "code",
   "execution_count": null,
   "metadata": {},
   "outputs": [],
   "source": [
    "#model_path = os.path.join(OWAT_TESTS,'model','worm_motion_log.wcon')\n",
    "#model_long = MovementModel(model_path,name='Long Model')\n",
    "#%time model_long.extract_features()\n",
    "#%time model_long.compute_feature_stats()\n",
    "\n",
    "model_path = os.path.join(OWAT_TESTS,'model','worm_motion_log_short.wcon')\n",
    "model_short = MovementModel(model_path,name='sibernetic_c302_short')\n",
    "%time model_short.extract_features()\n",
    "%time model_short.compute_feature_stats()\n",
    "\n",
    "#models = [model_long, model_short]\n",
    "models = [model_short]"
   ]
  },
  {
   "cell_type": "code",
   "execution_count": null,
   "metadata": {},
   "outputs": [],
   "source": [
    "model_short.feature_stats.loc['morphology.length']"
   ]
  },
  {
   "cell_type": "code",
   "execution_count": null,
   "metadata": {},
   "outputs": [],
   "source": [
    "class MovementFeatureTest(sciunit.Test): \n",
    "    \"\"\"Base class for movement feature tests\"\"\"\n",
    "    \n",
    "    score_type = sciunit.scores.ZScore   \n",
    "    attribute = None\n",
    "    \n",
    "    def validate_observation(self, observation):\n",
    "        for col in ['mean','std']:\n",
    "            s = observation['df'][self.attribute]\n",
    "            \n",
    "            f = getattr(observation['df'][self.attribute],col)\n",
    "            print(self.attribute,col)\n",
    "            observation[col] = f()\n",
    "        return observation\n",
    "        \n",
    "    def generate_prediction(self, model):\n",
    "        mean = model.get_feature_stat(self.attribute,'mean')\n",
    "        if self.name.endswith('absTest'):\n",
    "            mean = np.abs(mean)\n",
    "        return mean#{'mean': mean}\n",
    "    \n",
    "def test_factory(attribute):\n",
    "    class C(MovementFeatureTest):\n",
    "        attribute = attribute\n",
    "    C.__name__ = '%sTest' % attribute\n",
    "    return C"
   ]
  },
  {
   "cell_type": "code",
   "execution_count": null,
   "metadata": {},
   "outputs": [],
   "source": [
    "tests = []\n",
    "for attribute in MovementModel.feature_map:\n",
    "    if MovementModel.feature_map[attribute] is not None:\n",
    "        cls = test_factory(attribute)\n",
    "        tests.append(cls(observation={'df':df}))\n",
    "suite = sciunit.TestSuite(tests)"
   ]
  },
  {
   "cell_type": "code",
   "execution_count": null,
   "metadata": {},
   "outputs": [],
   "source": [
    "score_matrix = suite.judge(models,stop_on_error=False)"
   ]
  },
  {
   "cell_type": "code",
   "execution_count": null,
   "metadata": {},
   "outputs": [],
   "source": [
    "for score in score_matrix[models[0]]:\n",
    "    print(score.test.name,score.observation['mean'],score.prediction)"
   ]
  },
  {
   "cell_type": "code",
   "execution_count": null,
   "metadata": {},
   "outputs": [],
   "source": [
    "score_matrix.T"
   ]
  },
  {
   "cell_type": "code",
   "execution_count": null,
   "metadata": {},
   "outputs": [],
   "source": [
    "#from scidash_api import client\n",
    "#client_instance = client.ScidashClient({'base_url': 'http://scidash.a88dc6aa.svc.dockerapp.io:8000'}, \n",
    "#                                       hostname=\"Workuity Dell\")\n",
    "#client_instance.login(username='openworm', password='passworm')"
   ]
  },
  {
   "cell_type": "code",
   "execution_count": null,
   "metadata": {},
   "outputs": [],
   "source": [
    "#for test in suite.tests:\n",
    "#    try:\n",
    "#        del test.observation['df']\n",
    "#    except:\n",
    "#        pass"
   ]
  },
  {
   "cell_type": "code",
   "execution_count": null,
   "metadata": {},
   "outputs": [],
   "source": [
    "#client_instance.upload_suite(suite,score_matrix)"
   ]
  }
 ],
 "metadata": {
  "kernelspec": {
   "display_name": "Python 3",
   "language": "python",
   "name": "python3"
  },
  "language_info": {
   "codemirror_mode": {
    "name": "ipython",
    "version": 3
   },
   "file_extension": ".py",
   "mimetype": "text/x-python",
   "name": "python",
   "nbconvert_exporter": "python",
   "pygments_lexer": "ipython3",
   "version": "3.5.2"
  }
 },
 "nbformat": 4,
 "nbformat_minor": 2
}
